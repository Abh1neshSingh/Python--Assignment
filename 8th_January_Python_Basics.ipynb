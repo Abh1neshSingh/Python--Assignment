{
 "cells": [
  {
   "cell_type": "code",
   "execution_count": 1,
   "id": "b87ce260-03ae-4a7c-86c1-7405810f8c16",
   "metadata": {},
   "outputs": [],
   "source": [
    "# TOPIC: Python Basics Variable"
   ]
  },
  {
   "cell_type": "code",
   "execution_count": 2,
   "id": "256d4edc-a8d0-41ae-9457-a361e5aa8d08",
   "metadata": {},
   "outputs": [],
   "source": [
    "#  Q1. Declare two variables, `x` and `y`, and assign them integer values. Swap the\n",
    "#      values of these variables without using any temporary variable."
   ]
  },
  {
   "cell_type": "code",
   "execution_count": 3,
   "id": "c56196ca-6538-48d0-9a92-44d0a414ffb8",
   "metadata": {},
   "outputs": [],
   "source": [
    "x ,y = 5 ,10  "
   ]
  },
  {
   "cell_type": "code",
   "execution_count": 4,
   "id": "7093927b-0346-4635-a20c-f0bec98378d9",
   "metadata": {},
   "outputs": [
    {
     "data": {
      "text/plain": [
       "5"
      ]
     },
     "execution_count": 4,
     "metadata": {},
     "output_type": "execute_result"
    }
   ],
   "source": [
    "x"
   ]
  },
  {
   "cell_type": "code",
   "execution_count": 5,
   "id": "254d74fd-5e63-4a9e-81bf-8fc87eced3af",
   "metadata": {},
   "outputs": [
    {
     "data": {
      "text/plain": [
       "10"
      ]
     },
     "execution_count": 5,
     "metadata": {},
     "output_type": "execute_result"
    }
   ],
   "source": [
    "y"
   ]
  },
  {
   "cell_type": "code",
   "execution_count": 6,
   "id": "5b6f5c99-dfc4-4c7a-8d04-50aec2a4bdab",
   "metadata": {},
   "outputs": [],
   "source": [
    "# swaping the values of variables of x and y \n",
    "x, y= y,x"
   ]
  },
  {
   "cell_type": "code",
   "execution_count": 7,
   "id": "50c3e29c-7925-4ddd-95ce-c58359d1364f",
   "metadata": {},
   "outputs": [
    {
     "data": {
      "text/plain": [
       "10"
      ]
     },
     "execution_count": 7,
     "metadata": {},
     "output_type": "execute_result"
    }
   ],
   "source": [
    "x"
   ]
  },
  {
   "cell_type": "code",
   "execution_count": 8,
   "id": "899d424a-1639-4d75-955f-7384310a4dcf",
   "metadata": {},
   "outputs": [
    {
     "data": {
      "text/plain": [
       "5"
      ]
     },
     "execution_count": 8,
     "metadata": {},
     "output_type": "execute_result"
    }
   ],
   "source": [
    "y"
   ]
  },
  {
   "cell_type": "code",
   "execution_count": null,
   "id": "da4fbcf5-88a6-4dd3-a734-af0842c87e14",
   "metadata": {},
   "outputs": [],
   "source": []
  },
  {
   "cell_type": "code",
   "execution_count": 9,
   "id": "a1dfafb5-c6cc-42cf-a2d2-3c2e5fb10029",
   "metadata": {},
   "outputs": [],
   "source": [
    "#  Q2. Create a program that calculates the area of a rectangle. Take the length and\n",
    "#      width as inputs from the user and store them in variables. Calculate and\n",
    "#      display the area."
   ]
  },
  {
   "cell_type": "code",
   "execution_count": 12,
   "id": "eec4af01-ecd9-4375-b0a7-e3d6f1c32288",
   "metadata": {},
   "outputs": [
    {
     "name": "stdin",
     "output_type": "stream",
     "text": [
      "Enter the length : 23\n"
     ]
    }
   ],
   "source": [
    "# here we take length as input  from user \n",
    "length=float(input(\"Enter the length :\")) "
   ]
  },
  {
   "cell_type": "code",
   "execution_count": 13,
   "id": "7312ad2f-6b5b-4208-b7c4-514151d61423",
   "metadata": {},
   "outputs": [
    {
     "name": "stdin",
     "output_type": "stream",
     "text": [
      "Enter the width : 12.2\n"
     ]
    }
   ],
   "source": [
    "# here we take width as input  from user \n",
    "width =float(input(\"Enter the width :\"))"
   ]
  },
  {
   "cell_type": "code",
   "execution_count": 14,
   "id": "fbb070b3-14a0-4b13-92cf-99bc4660167a",
   "metadata": {},
   "outputs": [],
   "source": [
    "area= length * width"
   ]
  },
  {
   "cell_type": "code",
   "execution_count": 15,
   "id": "28cfd7d5-e9b0-4d29-a633-38a16b390eed",
   "metadata": {},
   "outputs": [
    {
     "name": "stdout",
     "output_type": "stream",
     "text": [
      "area  of rectangle is:  280.59999999999997\n"
     ]
    }
   ],
   "source": [
    "# display the area \n",
    "print(\"area  of rectangle is: \", area)"
   ]
  },
  {
   "cell_type": "code",
   "execution_count": null,
   "id": "08206940-ff49-4da4-80b2-db1b36563a89",
   "metadata": {},
   "outputs": [],
   "source": []
  },
  {
   "cell_type": "code",
   "execution_count": 16,
   "id": "fa757d25-bf19-4ba6-9935-a41a564bdd1a",
   "metadata": {},
   "outputs": [],
   "source": [
    "#  Q3. Write a Python program that converts temperatures from Celsius to\n",
    "#      Fahrenheit. Take the temperature in Celsius as input, store it in a variable,\n",
    "#      convert it to Fahrenheit, and display the result."
   ]
  },
  {
   "cell_type": "code",
   "execution_count": 17,
   "id": "7423765e-d978-412e-8fad-b5785dc0a76b",
   "metadata": {},
   "outputs": [
    {
     "name": "stdin",
     "output_type": "stream",
     "text": [
      "Enter the temperature:  27\n"
     ]
    }
   ],
   "source": [
    "# take input from user \n",
    "celsius = float(input(\"Enter the temperature: \"))"
   ]
  },
  {
   "cell_type": "code",
   "execution_count": 20,
   "id": "9eab17d6-7426-4bce-8761-40c1bd604330",
   "metadata": {},
   "outputs": [],
   "source": [
    "\n",
    "fahrenheit = (celsius * 9/5) + 32"
   ]
  },
  {
   "cell_type": "code",
   "execution_count": 19,
   "id": "795f9fd5-ccab-4caf-929d-169d7881443a",
   "metadata": {},
   "outputs": [
    {
     "name": "stdout",
     "output_type": "stream",
     "text": [
      "The temperature in Fahrenheit is: 80.6\n"
     ]
    }
   ],
   "source": [
    "print(\"The temperature in Fahrenheit is:\", fahrenheit)"
   ]
  },
  {
   "cell_type": "code",
   "execution_count": 25,
   "id": "9f33ff8c-5dde-40ee-9a43-96f1ebc8fcb9",
   "metadata": {},
   "outputs": [],
   "source": [
    "# TOPIC: String Based Questions\n"
   ]
  },
  {
   "cell_type": "code",
   "execution_count": null,
   "id": "9619c1c9-c32a-4c6a-a14f-c732ce3cb6a7",
   "metadata": {},
   "outputs": [],
   "source": [
    "#  Q1. Write a Python program that takes a string as input and prints the length of\n",
    "#      the string.\n",
    " "
   ]
  },
  {
   "cell_type": "code",
   "execution_count": 22,
   "id": "2c178822-eedf-463f-b8a4-4f19ee56e564",
   "metadata": {},
   "outputs": [
    {
     "name": "stdin",
     "output_type": "stream",
     "text": [
      "Enter a string:  Abhinesh\n"
     ]
    }
   ],
   "source": [
    "# here we  takes a string as input \n",
    "s = input(\"Enter a string: \")"
   ]
  },
  {
   "cell_type": "code",
   "execution_count": 23,
   "id": "d2d25928-6a24-46ec-ac00-73c814d72a41",
   "metadata": {},
   "outputs": [],
   "source": [
    "#  calculate length of String\n",
    "s_length = len(s)\n"
   ]
  },
  {
   "cell_type": "code",
   "execution_count": 24,
   "id": "bc96652a-022a-42b0-a436-17bf3dd558ea",
   "metadata": {},
   "outputs": [
    {
     "name": "stdout",
     "output_type": "stream",
     "text": [
      "The length of the string is: 8\n"
     ]
    }
   ],
   "source": [
    "print(\"The length of the string is:\", s_length)"
   ]
  },
  {
   "cell_type": "code",
   "execution_count": null,
   "id": "3945ac9d-993b-441f-8b4f-47d6f3be16e5",
   "metadata": {},
   "outputs": [],
   "source": []
  },
  {
   "cell_type": "code",
   "execution_count": null,
   "id": "05b190ca-f0ae-4501-9092-afbf616b488f",
   "metadata": {},
   "outputs": [],
   "source": [
    "# Q2. Create a program that takes a sentence from the user and counts the number\n",
    "#     of vowels (a, e, i, o, u) in the string."
   ]
  },
  {
   "cell_type": "code",
   "execution_count": 26,
   "id": "2514dc28-7e04-4d96-8b4f-f19e1cbd3e1b",
   "metadata": {},
   "outputs": [
    {
     "name": "stdin",
     "output_type": "stream",
     "text": [
      "Enter a sentence:  My name is Abhinesh Singh\n"
     ]
    }
   ],
   "source": [
    "sentence = input(\"Enter a sentence: \")\n"
   ]
  },
  {
   "cell_type": "code",
   "execution_count": 27,
   "id": "01323b67-df1e-47ff-bdac-c4e7dded4231",
   "metadata": {},
   "outputs": [],
   "source": [
    "vowel_count = sentence.lower().count('a') + sentence.lower().count('e') + sentence.lower().count('i') + sentence.lower().count('o') + sentence.lower().count('u')"
   ]
  },
  {
   "cell_type": "code",
   "execution_count": 28,
   "id": "30100623-3b23-4402-9187-bc8b8c401274",
   "metadata": {},
   "outputs": [
    {
     "name": "stdout",
     "output_type": "stream",
     "text": [
      "Number of vowels in the sentence: 7\n"
     ]
    }
   ],
   "source": [
    "print(\"Number of vowels in the sentence:\", vowel_count)"
   ]
  },
  {
   "cell_type": "code",
   "execution_count": null,
   "id": "08bc93b6-ef3f-48fd-8617-c77c401a43b9",
   "metadata": {},
   "outputs": [],
   "source": []
  },
  {
   "cell_type": "code",
   "execution_count": 29,
   "id": "c12f5a8e-d15e-4c42-89dd-23dd007679f8",
   "metadata": {},
   "outputs": [],
   "source": [
    "#   Q3. Given a string, reverse the order of characters using string slicing and print\n",
    "#       the reversed string."
   ]
  },
  {
   "cell_type": "code",
   "execution_count": 30,
   "id": "3f38ff79-9ef8-4940-a9ad-981fef32ae59",
   "metadata": {},
   "outputs": [
    {
     "name": "stdin",
     "output_type": "stream",
     "text": [
      "Enter a string:  PWSkills\n"
     ]
    }
   ],
   "source": [
    "s = input(\"Enter a string: \")"
   ]
  },
  {
   "cell_type": "code",
   "execution_count": 31,
   "id": "9faff459-f41d-4ad5-b674-47e70acc62be",
   "metadata": {},
   "outputs": [],
   "source": [
    "rev_str = s[::-1]"
   ]
  },
  {
   "cell_type": "code",
   "execution_count": 32,
   "id": "aac7e739-7b85-4f9a-ad39-2427dda1c32b",
   "metadata": {},
   "outputs": [
    {
     "name": "stdout",
     "output_type": "stream",
     "text": [
      "Reversed string: sllikSWP\n"
     ]
    }
   ],
   "source": [
    "print(\"Reversed string:\", rev_str)"
   ]
  },
  {
   "cell_type": "code",
   "execution_count": null,
   "id": "2d961623-2ae1-4435-a857-ba87310e7b22",
   "metadata": {},
   "outputs": [],
   "source": []
  },
  {
   "cell_type": "code",
   "execution_count": 33,
   "id": "4f00f52f-39ca-486f-86f5-5e6db8186370",
   "metadata": {},
   "outputs": [],
   "source": [
    "#   Q4. Write a program that takes a string as input and checks if it is a palindrome\n",
    "#       (reads the same forwards and backwards)."
   ]
  },
  {
   "cell_type": "code",
   "execution_count": 34,
   "id": "8ef179c2-38b5-4a61-8eb0-c4c5bf7de5ca",
   "metadata": {},
   "outputs": [
    {
     "name": "stdin",
     "output_type": "stream",
     "text": [
      "Enter a string:  Tata\n"
     ]
    }
   ],
   "source": [
    "s1 = input(\"Enter a string: \")"
   ]
  },
  {
   "cell_type": "code",
   "execution_count": 35,
   "id": "b9c1883c-f1d2-4dad-823f-1f108b5371d5",
   "metadata": {},
   "outputs": [],
   "source": [
    "s2 = ''.join(s1.split()).lower()"
   ]
  },
  {
   "cell_type": "code",
   "execution_count": 36,
   "id": "aa309c7b-9981-468c-a9b8-a281ccaec221",
   "metadata": {},
   "outputs": [],
   "source": [
    "is_palindrome = s2 == s2[::-1] "
   ]
  },
  {
   "cell_type": "code",
   "execution_count": 37,
   "id": "0f27ddc3-7b98-4e92-898e-9fe1fdcf1e35",
   "metadata": {},
   "outputs": [
    {
     "name": "stdout",
     "output_type": "stream",
     "text": [
      "Not a palindrome\n"
     ]
    }
   ],
   "source": [
    "print(\"Palindrome\" if is_palindrome else \"Not a palindrome\")"
   ]
  },
  {
   "cell_type": "code",
   "execution_count": null,
   "id": "37a28919-e965-4977-a2ed-35fb5c053168",
   "metadata": {},
   "outputs": [],
   "source": []
  },
  {
   "cell_type": "code",
   "execution_count": null,
   "id": "22979b5e-8efa-4c85-b892-800548034fc5",
   "metadata": {},
   "outputs": [],
   "source": [
    "#  Q5. Create a program that takes a string as input and removes all the spaces from\n",
    "#      it. Print the modified string without spaces."
   ]
  },
  {
   "cell_type": "code",
   "execution_count": 38,
   "id": "de13eb44-06c1-4a07-8a8c-acc41d1f984e",
   "metadata": {},
   "outputs": [
    {
     "name": "stdin",
     "output_type": "stream",
     "text": [
      "Enter a string:  String is immuatable\n"
     ]
    }
   ],
   "source": [
    "user_string = input(\"Enter a string: \")"
   ]
  },
  {
   "cell_type": "code",
   "execution_count": 39,
   "id": "14397454-c54d-40b3-8d13-cf4253e34cc4",
   "metadata": {},
   "outputs": [],
   "source": [
    "string_without_spaces = ''.join(user_string.split())"
   ]
  },
  {
   "cell_type": "code",
   "execution_count": 41,
   "id": "161aaead-eb64-41dc-9c7e-479f8c9feb2c",
   "metadata": {},
   "outputs": [
    {
     "name": "stdout",
     "output_type": "stream",
     "text": [
      " String without spaces: Stringisimmuatable\n"
     ]
    }
   ],
   "source": [
    "print(\" String without spaces:\", string_without_spaces)\n"
   ]
  },
  {
   "cell_type": "code",
   "execution_count": null,
   "id": "473dd1e6-4545-43ed-a10f-f451cf623296",
   "metadata": {},
   "outputs": [],
   "source": []
  }
 ],
 "metadata": {
  "kernelspec": {
   "display_name": "Python 3 (ipykernel)",
   "language": "python",
   "name": "python3"
  },
  "language_info": {
   "codemirror_mode": {
    "name": "ipython",
    "version": 3
   },
   "file_extension": ".py",
   "mimetype": "text/x-python",
   "name": "python",
   "nbconvert_exporter": "python",
   "pygments_lexer": "ipython3",
   "version": "3.10.8"
  }
 },
 "nbformat": 4,
 "nbformat_minor": 5
}
